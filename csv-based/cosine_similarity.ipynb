{
 "cells": [
  {
   "cell_type": "markdown",
   "metadata": {},
   "source": [
    "# movie recommendation system using cosine similarity"
   ]
  },
  {
   "cell_type": "code",
   "execution_count": 1,
   "metadata": {},
   "outputs": [
    {
     "name": "stderr",
     "output_type": "stream",
     "text": [
      "/Users/hi/jitenStuff/MyGit/AI-ML-DL/.venv/lib/python3.10/site-packages/fuzzywuzzy/fuzz.py:11: UserWarning: Using slow pure-python SequenceMatcher. Install python-Levenshtein to remove this warning\n",
      "  warnings.warn('Using slow pure-python SequenceMatcher. Install python-Levenshtein to remove this warning')\n"
     ]
    }
   ],
   "source": [
    "import pandas as pd\n",
    "from sklearn.metrics.pairwise import cosine_similarity\n",
    "from sklearn.feature_extraction.text import TfidfVectorizer\n",
    "from fuzzywuzzy import process\n",
    "from IPython.display import display"
   ]
  },
  {
   "cell_type": "code",
   "execution_count": 2,
   "metadata": {},
   "outputs": [
    {
     "data": {
      "text/html": [
       "<div>\n",
       "<style scoped>\n",
       "    .dataframe tbody tr th:only-of-type {\n",
       "        vertical-align: middle;\n",
       "    }\n",
       "\n",
       "    .dataframe tbody tr th {\n",
       "        vertical-align: top;\n",
       "    }\n",
       "\n",
       "    .dataframe thead th {\n",
       "        text-align: right;\n",
       "    }\n",
       "</style>\n",
       "<table border=\"1\" class=\"dataframe\">\n",
       "  <thead>\n",
       "    <tr style=\"text-align: right;\">\n",
       "      <th></th>\n",
       "      <th>movieId</th>\n",
       "      <th>title</th>\n",
       "      <th>genres</th>\n",
       "    </tr>\n",
       "  </thead>\n",
       "  <tbody>\n",
       "    <tr>\n",
       "      <th>44834</th>\n",
       "      <td>169082</td>\n",
       "      <td>The Clearstream Affair (2015)</td>\n",
       "      <td>Thriller</td>\n",
       "    </tr>\n",
       "    <tr>\n",
       "      <th>3125</th>\n",
       "      <td>3218</td>\n",
       "      <td>Poison (1991)</td>\n",
       "      <td>Drama</td>\n",
       "    </tr>\n",
       "    <tr>\n",
       "      <th>52371</th>\n",
       "      <td>185137</td>\n",
       "      <td>Nadar solo (2003)</td>\n",
       "      <td>Drama</td>\n",
       "    </tr>\n",
       "    <tr>\n",
       "      <th>60778</th>\n",
       "      <td>204132</td>\n",
       "      <td>Secret Obsession (2019)</td>\n",
       "      <td>Drama|Thriller</td>\n",
       "    </tr>\n",
       "    <tr>\n",
       "      <th>53541</th>\n",
       "      <td>187629</td>\n",
       "      <td>The Legend of Johnny Lingo (2003)</td>\n",
       "      <td>Action|Adventure|Children</td>\n",
       "    </tr>\n",
       "  </tbody>\n",
       "</table>\n",
       "</div>"
      ],
      "text/plain": [
       "       movieId                              title                     genres\n",
       "44834   169082      The Clearstream Affair (2015)                   Thriller\n",
       "3125      3218                      Poison (1991)                      Drama\n",
       "52371   185137                  Nadar solo (2003)                      Drama\n",
       "60778   204132            Secret Obsession (2019)             Drama|Thriller\n",
       "53541   187629  The Legend of Johnny Lingo (2003)  Action|Adventure|Children"
      ]
     },
     "metadata": {},
     "output_type": "display_data"
    }
   ],
   "source": [
    "df = pd.read_csv('assets/cosine_similarity.csv')\n",
    "df = df.dropna()\n",
    "display(df.sample(5))"
   ]
  },
  {
   "cell_type": "code",
   "execution_count": 3,
   "metadata": {},
   "outputs": [],
   "source": [
    "# define tf-idf vectorizer to transform the genre text into vectors\n",
    "\n",
    "tfidf = TfidfVectorizer(stop_words='english')\n",
    "\n",
    "# fit and transform the genres coloumn into a matrix of tf-idf fearures\n",
    "\n",
    "tfidf_matrix = tfidf.fit_transform(df['genres'])\n",
    "\n",
    "# compute the cosine similarity matrix\n",
    "\n",
    "cosine_sim = cosine_similarity(tfidf_matrix, tfidf_matrix)\n"
   ]
  },
  {
   "cell_type": "code",
   "execution_count": 4,
   "metadata": {},
   "outputs": [],
   "source": [
    "def get_recommendations(title, cosine_sim=cosine_sim):\n",
    "    # Find the closest match to the title\n",
    "    closest_match = process.extractOne(title, df['title'])[0]\n",
    "    \n",
    "    # Get the index of the movie that matches the closest title\n",
    "    idx = df[df['title'] == closest_match].index[0]\n",
    "\n",
    "    # Get the pairwise similarity scores of all movies with that movie\n",
    "    sim_scores = list(enumerate(cosine_sim[idx]))\n",
    "\n",
    "    # Sort the movies based on the similarity scores\n",
    "    sim_scores = sorted(sim_scores, key=lambda x: x[1], reverse=True)\n",
    "\n",
    "    # Get the scores of the 10 most similar movies\n",
    "    sim_scores = sim_scores[1:11]\n",
    "\n",
    "    # Get the movie indices\n",
    "    movie_indices = [i[0] for i in sim_scores]\n",
    "\n",
    "    return df['title'].iloc[movie_indices]"
   ]
  },
  {
   "cell_type": "code",
   "execution_count": 8,
   "metadata": {},
   "outputs": [
    {
     "name": "stdout",
     "output_type": "stream",
     "text": [
      "Recommendations similar to Poison:\n",
      "1. Shanghai Triad (Yao a yao yao dao waipo qiao) (1995)\n",
      "2. Dead Man Walking (1995)\n",
      "3. Hate (Haine, La) (1995)\n",
      "4. Young Poisoner's Handbook, The (1995)\n",
      "5. The Glass Shield (1994)\n",
      "6. Heavenly Creatures (1994)\n",
      "7. Little Odessa (1994)\n",
      "8. New Jersey Drive (1995)\n",
      "9. Once Were Warriors (1994)\n",
      "10. Shawshank Redemption, The (1994)\n"
     ]
    }
   ],
   "source": [
    "# testing\n",
    "\n",
    "movie_title = 'Poison'\n",
    "results = get_recommendations(movie_title)\n",
    "\n",
    "if isinstance(results, str):\n",
    "    print(results)\n",
    "else:\n",
    "    print(f\"Recommendations similar to {movie_title}:\")\n",
    "    for i, movie in enumerate(results, 1):\n",
    "        print(f\"{i}. {movie}\")"
   ]
  },
  {
   "cell_type": "code",
   "execution_count": null,
   "metadata": {},
   "outputs": [],
   "source": []
  }
 ],
 "metadata": {
  "kernelspec": {
   "display_name": ".venv",
   "language": "python",
   "name": "python3"
  },
  "language_info": {
   "codemirror_mode": {
    "name": "ipython",
    "version": 3
   },
   "file_extension": ".py",
   "mimetype": "text/x-python",
   "name": "python",
   "nbconvert_exporter": "python",
   "pygments_lexer": "ipython3",
   "version": "3.10.14"
  }
 },
 "nbformat": 4,
 "nbformat_minor": 2
}

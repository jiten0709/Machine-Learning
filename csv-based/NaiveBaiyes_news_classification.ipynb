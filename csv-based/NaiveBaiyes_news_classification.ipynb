{
 "cells": [
  {
   "cell_type": "markdown",
   "metadata": {},
   "source": [
    "# detect wheather the new is real or fake"
   ]
  },
  {
   "cell_type": "code",
   "execution_count": 10,
   "metadata": {},
   "outputs": [],
   "source": [
    "import pandas as pd\n",
    "from sklearn.model_selection import train_test_split\n",
    "from sklearn.feature_extraction.text import TfidfVectorizer\n",
    "from sklearn.naive_bayes import MultinomialNB\n",
    "from sklearn.metrics import accuracy_score, classification_report\n",
    "from IPython.display import display\n",
    "\n"
   ]
  },
  {
   "cell_type": "code",
   "execution_count": 9,
   "metadata": {},
   "outputs": [
    {
     "name": "stdout",
     "output_type": "stream",
     "text": [
      "sample data:\n"
     ]
    },
    {
     "data": {
      "text/html": [
       "<div>\n",
       "<style scoped>\n",
       "    .dataframe tbody tr th:only-of-type {\n",
       "        vertical-align: middle;\n",
       "    }\n",
       "\n",
       "    .dataframe tbody tr th {\n",
       "        vertical-align: top;\n",
       "    }\n",
       "\n",
       "    .dataframe thead th {\n",
       "        text-align: right;\n",
       "    }\n",
       "</style>\n",
       "<table border=\"1\" class=\"dataframe\">\n",
       "  <thead>\n",
       "    <tr style=\"text-align: right;\">\n",
       "      <th></th>\n",
       "      <th>title</th>\n",
       "      <th>news_url</th>\n",
       "      <th>source_domain</th>\n",
       "      <th>tweet_num</th>\n",
       "      <th>real</th>\n",
       "    </tr>\n",
       "  </thead>\n",
       "  <tbody>\n",
       "    <tr>\n",
       "      <th>3063</th>\n",
       "      <td>J.J. Watt's Hurricane Harvey relief fund close...</td>\n",
       "      <td>https://www.usatoday.com/story/sports/nfl/texa...</td>\n",
       "      <td>www.usatoday.com</td>\n",
       "      <td>12</td>\n",
       "      <td>1</td>\n",
       "    </tr>\n",
       "    <tr>\n",
       "      <th>3050</th>\n",
       "      <td>Niall Horan and Liam Payne Have One Direction ...</td>\n",
       "      <td>https://www.9news.com/article/entertainment/en...</td>\n",
       "      <td>www.9news.com</td>\n",
       "      <td>72</td>\n",
       "      <td>1</td>\n",
       "    </tr>\n",
       "    <tr>\n",
       "      <th>3880</th>\n",
       "      <td>The Real Housewives of New Jersey Are as Tough...</td>\n",
       "      <td>http://www.bravotv.com/the-daily-dish/the-real...</td>\n",
       "      <td>www.bravotv.com</td>\n",
       "      <td>64</td>\n",
       "      <td>1</td>\n",
       "    </tr>\n",
       "    <tr>\n",
       "      <th>4048</th>\n",
       "      <td>Megan Keeps Having Terrible Flashbacks to Her ...</td>\n",
       "      <td>https://www.longroom.com/discussion/918151/meg...</td>\n",
       "      <td>www.longroom.com</td>\n",
       "      <td>15</td>\n",
       "      <td>1</td>\n",
       "    </tr>\n",
       "    <tr>\n",
       "      <th>4067</th>\n",
       "      <td>Donald Trump blasts Kathy Griffin for beheadin...</td>\n",
       "      <td>ew.com/news/2017/05/31/donald-trump-blasts-kat...</td>\n",
       "      <td>ew.com</td>\n",
       "      <td>29</td>\n",
       "      <td>0</td>\n",
       "    </tr>\n",
       "  </tbody>\n",
       "</table>\n",
       "</div>"
      ],
      "text/plain": [
       "                                                  title  \\\n",
       "3063  J.J. Watt's Hurricane Harvey relief fund close...   \n",
       "3050  Niall Horan and Liam Payne Have One Direction ...   \n",
       "3880  The Real Housewives of New Jersey Are as Tough...   \n",
       "4048  Megan Keeps Having Terrible Flashbacks to Her ...   \n",
       "4067  Donald Trump blasts Kathy Griffin for beheadin...   \n",
       "\n",
       "                                               news_url     source_domain  \\\n",
       "3063  https://www.usatoday.com/story/sports/nfl/texa...  www.usatoday.com   \n",
       "3050  https://www.9news.com/article/entertainment/en...     www.9news.com   \n",
       "3880  http://www.bravotv.com/the-daily-dish/the-real...   www.bravotv.com   \n",
       "4048  https://www.longroom.com/discussion/918151/meg...  www.longroom.com   \n",
       "4067  ew.com/news/2017/05/31/donald-trump-blasts-kat...            ew.com   \n",
       "\n",
       "      tweet_num  real  \n",
       "3063         12     1  \n",
       "3050         72     1  \n",
       "3880         64     1  \n",
       "4048         15     1  \n",
       "4067         29     0  "
      ]
     },
     "metadata": {},
     "output_type": "display_data"
    },
    {
     "name": "stdout",
     "output_type": "stream",
     "text": [
      "data shape:\n"
     ]
    },
    {
     "data": {
      "text/plain": [
       "(4622, 5)"
      ]
     },
     "metadata": {},
     "output_type": "display_data"
    },
    {
     "name": "stdout",
     "output_type": "stream",
     "text": [
      "data description:\n"
     ]
    },
    {
     "data": {
      "text/html": [
       "<div>\n",
       "<style scoped>\n",
       "    .dataframe tbody tr th:only-of-type {\n",
       "        vertical-align: middle;\n",
       "    }\n",
       "\n",
       "    .dataframe tbody tr th {\n",
       "        vertical-align: top;\n",
       "    }\n",
       "\n",
       "    .dataframe thead th {\n",
       "        text-align: right;\n",
       "    }\n",
       "</style>\n",
       "<table border=\"1\" class=\"dataframe\">\n",
       "  <thead>\n",
       "    <tr style=\"text-align: right;\">\n",
       "      <th></th>\n",
       "      <th>tweet_num</th>\n",
       "      <th>real</th>\n",
       "    </tr>\n",
       "  </thead>\n",
       "  <tbody>\n",
       "    <tr>\n",
       "      <th>count</th>\n",
       "      <td>4622.000000</td>\n",
       "      <td>4622.000000</td>\n",
       "    </tr>\n",
       "    <tr>\n",
       "      <th>mean</th>\n",
       "      <td>95.208784</td>\n",
       "      <td>0.754219</td>\n",
       "    </tr>\n",
       "    <tr>\n",
       "      <th>std</th>\n",
       "      <td>581.108004</td>\n",
       "      <td>0.430596</td>\n",
       "    </tr>\n",
       "    <tr>\n",
       "      <th>min</th>\n",
       "      <td>0.000000</td>\n",
       "      <td>0.000000</td>\n",
       "    </tr>\n",
       "    <tr>\n",
       "      <th>25%</th>\n",
       "      <td>11.000000</td>\n",
       "      <td>1.000000</td>\n",
       "    </tr>\n",
       "    <tr>\n",
       "      <th>50%</th>\n",
       "      <td>38.000000</td>\n",
       "      <td>1.000000</td>\n",
       "    </tr>\n",
       "    <tr>\n",
       "      <th>75%</th>\n",
       "      <td>66.000000</td>\n",
       "      <td>1.000000</td>\n",
       "    </tr>\n",
       "    <tr>\n",
       "      <th>max</th>\n",
       "      <td>27377.000000</td>\n",
       "      <td>1.000000</td>\n",
       "    </tr>\n",
       "  </tbody>\n",
       "</table>\n",
       "</div>"
      ],
      "text/plain": [
       "          tweet_num         real\n",
       "count   4622.000000  4622.000000\n",
       "mean      95.208784     0.754219\n",
       "std      581.108004     0.430596\n",
       "min        0.000000     0.000000\n",
       "25%       11.000000     1.000000\n",
       "50%       38.000000     1.000000\n",
       "75%       66.000000     1.000000\n",
       "max    27377.000000     1.000000"
      ]
     },
     "metadata": {},
     "output_type": "display_data"
    }
   ],
   "source": [
    "# load the dataset\n",
    "df = pd.read_csv(\"assets/news.csv\")\n",
    "\n",
    "print('sample data:')\n",
    "display(df.sample(5))\n",
    "\n",
    "print('data shape:')\n",
    "display(df.shape)\n",
    "\n",
    "print('data description:')\n",
    "display(df.describe())\n"
   ]
  },
  {
   "cell_type": "code",
   "execution_count": 12,
   "metadata": {},
   "outputs": [],
   "source": [
    "# data preparation\n",
    "x = df['title']\n",
    "y = df['real']\n",
    "\n",
    "x_train, x_test, y_train, y_test = train_test_split(x, y, test_size=0.2, random_state=42)\n",
    "\n",
    "# initialize the tfidfvectorizer to convert text into numeric features\n",
    "vectorizer = TfidfVectorizer(stop_words='english', max_df=0.7)\n",
    "x_train_tfidf = vectorizer.fit_transform(x_train)\n",
    "x_test_tfidf = vectorizer.transform(x_test)\n",
    "\n"
   ]
  },
  {
   "cell_type": "code",
   "execution_count": 16,
   "metadata": {},
   "outputs": [
    {
     "name": "stdout",
     "output_type": "stream",
     "text": [
      "accuracy: 0.8054054054054054\n",
      "classification report:               precision    recall  f1-score   support\n",
      "\n",
      "           0       0.84      0.22      0.34       218\n",
      "           1       0.80      0.99      0.89       707\n",
      "\n",
      "    accuracy                           0.81       925\n",
      "   macro avg       0.82      0.60      0.61       925\n",
      "weighted avg       0.81      0.81      0.76       925\n",
      "\n"
     ]
    }
   ],
   "source": [
    "# train the multinomial naive bayes model\n",
    "model = MultinomialNB()\n",
    "\n",
    "history = model.fit(x_train_tfidf, y_train)\n",
    "\n",
    "y_pred = model.predict(x_test_tfidf)\n",
    "\n",
    "print('accuracy:', accuracy_score(y_test, y_pred))\n",
    "print('classification report:', classification_report(y_test, y_pred, zero_division=1))\n"
   ]
  },
  {
   "cell_type": "code",
   "execution_count": null,
   "metadata": {},
   "outputs": [],
   "source": []
  }
 ],
 "metadata": {
  "kernelspec": {
   "display_name": ".venv",
   "language": "python",
   "name": "python3"
  },
  "language_info": {
   "codemirror_mode": {
    "name": "ipython",
    "version": 3
   },
   "file_extension": ".py",
   "mimetype": "text/x-python",
   "name": "python",
   "nbconvert_exporter": "python",
   "pygments_lexer": "ipython3",
   "version": "3.10.14"
  }
 },
 "nbformat": 4,
 "nbformat_minor": 2
}
